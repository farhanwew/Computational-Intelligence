{
  "nbformat": 4,
  "nbformat_minor": 0,
  "metadata": {
    "colab": {
      "provenance": [],
      "authorship_tag": "ABX9TyObSAuMe3DNXOzhY/ZZynqM",
      "include_colab_link": true
    },
    "kernelspec": {
      "name": "python3",
      "display_name": "Python 3"
    },
    "language_info": {
      "name": "python"
    }
  },
  "cells": [
    {
      "cell_type": "markdown",
      "metadata": {
        "id": "view-in-github",
        "colab_type": "text"
      },
      "source": [
        "<a href=\"https://colab.research.google.com/github/farhanwew/Computational-Intelligence/blob/main/SummaryStat.ipynb\" target=\"_parent\"><img src=\"https://colab.research.google.com/assets/colab-badge.svg\" alt=\"Open In Colab\"/></a>"
      ]
    },
    {
      "cell_type": "markdown",
      "source": [
        "# What is statistics?\n",
        "- The field of statistics - the practice and study of collectiong and analyzing data\n",
        "- A summary statistic - a fact about or summary of some data\n",
        "\n",
        "# What can statistics do?\n",
        "- How likely is someone purchase a product ? it if they can use a different payment system?\n",
        "- How many occupants will your hotel have? How can you optimize occupancy?\n",
        "- How many sizes of jeans need to be manufactured so they can fit 95% of the population? Should the same number of each size be produced?\n",
        "- A/B tests: Which ad is more effective in getting people to purchase a product?\n",
        "\n",
        "\n",
        "# What can't statistics do?\n",
        "\n",
        "- Why is Game of Thrones so popular?\n",
        "\n",
        "Instead...\n",
        "- Are series with more violent scenes viewed by more people?\n",
        "\n",
        "But...\n",
        "- Even so, this can't tell us if more violent scenes lead to more views\n",
        "\n"
      ],
      "metadata": {
        "id": "VhtgZAQUlqtd"
      }
    },
    {
      "cell_type": "markdown",
      "source": [
        "# Types of statistics\n",
        "\n",
        "## Descriptive statistics\n",
        "- Describe and summarize data\n",
        "- 50% of friends drive to work\n",
        "- 25% take the bus\n",
        "- 25% bike\n",
        "\n",
        "## Inferential statistics\n",
        "\n",
        "- Use a sample of data to make inferences\n",
        "about a larger population\n",
        "- What percent of people drive to work?\n",
        "\n",
        "\n"
      ],
      "metadata": {
        "id": "jeNWR6b2m9y6"
      }
    },
    {
      "cell_type": "markdown",
      "source": [
        "# Types of data\n",
        "## Numeric (Quantitative)\n",
        "- Continuous (Measured)\n",
        "  - Airplane speed\n",
        "  - Time spent waiting in line\n",
        "  \n",
        "- Discrete (Counted)\n",
        "  - Number of pets\n",
        "  - Number of packages shipped\n",
        "\n",
        "\n",
        "## Categorical (Qualitative)\n",
        "- Nominal (Unordered)\n",
        "  - Married/unmarried\n",
        "- Country of residence\n",
        "  - Ordinal (Ordered)\n",
        "\n",
        "\n",
        "\n",
        "\n",
        "\n",
        "# Categorical data can be represented as numbers\n",
        "## Nominal (Unordered)\n",
        "- Married/unmarried ( 1 / 0 )\n",
        "- Country of residence ( 1 , 2 , ...)\n",
        "\n",
        "## Ordinal (Ordered)\n",
        "- Strongly disagree ( 1 )\n",
        "- Somewhat disagree ( 2 )\n",
        "- Neither agree nor disagree ( 3 )\n",
        "- Somewhat agree ( 4 )\n",
        "- Strongly agree ( 5 )"
      ],
      "metadata": {
        "id": "L2MzSuttnjKL"
      }
    },
    {
      "cell_type": "markdown",
      "source": [
        "# Measures of Center\n",
        "\n",
        "What's a typical value?\n",
        "\n",
        "Where is the center of the data?\n",
        "- Mean\n",
        "- Median\n",
        "- Mode\n",
        "\n",
        "Skew\n",
        "\n",
        "![skew](https://media.geeksforgeeks.org/wp-content/uploads/20231101173636/Skewness-copy.webp)\n",
        "\n",
        "<a href  = \"https://images.app.goo.gl/mWe1tr7WMeuRN5YFA\"> source image </a>\n"
      ],
      "metadata": {
        "id": "4yCExkMyp7Jq"
      }
    },
    {
      "cell_type": "code",
      "source": [
        "! wget https://assets.datacamp.com/production/repositories/5786/datasets/49f6356966016c70a9f63a0474942675377bdcf2/food_consumption.csv"
      ],
      "metadata": {
        "colab": {
          "base_uri": "https://localhost:8080/"
        },
        "collapsed": true,
        "id": "9ygSZG9crUoc",
        "outputId": "21d6628c-c72d-4bb9-a54a-9a5672022e58"
      },
      "execution_count": null,
      "outputs": [
        {
          "output_type": "stream",
          "name": "stdout",
          "text": [
            "--2025-01-02 15:48:40--  https://assets.datacamp.com/production/repositories/5786/datasets/49f6356966016c70a9f63a0474942675377bdcf2/food_consumption.csv\n",
            "Resolving assets.datacamp.com (assets.datacamp.com)... 104.18.43.162, 172.64.144.94\n",
            "Connecting to assets.datacamp.com (assets.datacamp.com)|104.18.43.162|:443... connected.\n",
            "HTTP request sent, awaiting response... 200 OK\n",
            "Length: 52041 (51K) [application/octet-stream]\n",
            "Saving to: ‘food_consumption.csv’\n",
            "\n",
            "food_consumption.cs 100%[===================>]  50.82K  --.-KB/s    in 0.01s   \n",
            "\n",
            "2025-01-02 15:48:40 (3.87 MB/s) - ‘food_consumption.csv’ saved [52041/52041]\n",
            "\n"
          ]
        }
      ]
    },
    {
      "cell_type": "markdown",
      "source": [
        "## Cases"
      ],
      "metadata": {
        "id": "E6Gm8Z6vtNta"
      }
    },
    {
      "cell_type": "markdown",
      "source": [
        "The food_consumption dataset contains the number of kilograms of food consumed per person per year in each country and food category (consumption), and its carbon footprint (co2_emissions) measured in kilograms of carbon dioxide, or CO2."
      ],
      "metadata": {
        "id": "zfDJ0VjptVWO"
      }
    },
    {
      "cell_type": "markdown",
      "source": [
        "Mean and Median"
      ],
      "metadata": {
        "id": "yhkSK8l6uTv6"
      }
    },
    {
      "cell_type": "code",
      "source": [
        "import pandas as pd\n",
        "import numpy as np"
      ],
      "metadata": {
        "id": "HATQdMXUtV03"
      },
      "execution_count": null,
      "outputs": []
    },
    {
      "cell_type": "code",
      "source": [
        "# load data\n",
        "food_consumption = pd.read_csv('food_consumption.csv')"
      ],
      "metadata": {
        "id": "32tuuN0athdn"
      },
      "execution_count": null,
      "outputs": []
    },
    {
      "cell_type": "code",
      "source": [
        "# Subset country for USA: usa_consumption\n",
        "usa_consumption = food_consumption[food_consumption['country'] == \"USA\"]\n",
        "\n",
        "# Calculate mean consumption in USA\n",
        "print(\"mean consumption in USA:\", np.mean(usa_consumption['consumption']))\n",
        "\n",
        "# Calculate median consumption in USA\n",
        "print(\"median consumption in USA:\", np.median(usa_consumption['consumption']))"
      ],
      "metadata": {
        "colab": {
          "base_uri": "https://localhost:8080/"
        },
        "id": "ZbtLgiZgtrm6",
        "outputId": "6ba5ee7e-da0c-453a-a1e9-7f22e6627ee5"
      },
      "execution_count": null,
      "outputs": [
        {
          "output_type": "stream",
          "name": "stdout",
          "text": [
            "mean consumption in USA: 44.650000000000006\n",
            "median consumption in USA: 14.58\n"
          ]
        }
      ]
    },
    {
      "cell_type": "markdown",
      "source": [
        "Mean vs median"
      ],
      "metadata": {
        "id": "qSQfIw8suZto"
      }
    },
    {
      "cell_type": "code",
      "source": [
        "! wget https://assets.datacamp.com/production/repositories/5786/datasets/49f6356966016c70a9f63a0474942675377bdcf2/food_consumption.csv"
      ],
      "metadata": {
        "colab": {
          "base_uri": "https://localhost:8080/"
        },
        "collapsed": true,
        "id": "WKyBeJinuqhC",
        "outputId": "459e9854-a4c3-46d5-e3ec-9071de5bf97a"
      },
      "execution_count": null,
      "outputs": [
        {
          "output_type": "stream",
          "name": "stdout",
          "text": [
            "--2025-01-02 15:55:40--  https://assets.datacamp.com/production/repositories/5786/datasets/49f6356966016c70a9f63a0474942675377bdcf2/food_consumption.csv\n",
            "Resolving assets.datacamp.com (assets.datacamp.com)... 172.64.144.94, 104.18.43.162\n",
            "Connecting to assets.datacamp.com (assets.datacamp.com)|172.64.144.94|:443... connected.\n",
            "HTTP request sent, awaiting response... 200 OK\n",
            "Length: 52041 (51K) [application/octet-stream]\n",
            "Saving to: ‘food_consumption.csv.1’\n",
            "\n",
            "\rfood_consumption.cs   0%[                    ]       0  --.-KB/s               \rfood_consumption.cs 100%[===================>]  50.82K  --.-KB/s    in 0.01s   \n",
            "\n",
            "2025-01-02 15:55:40 (4.23 MB/s) - ‘food_consumption.csv.1’ saved [52041/52041]\n",
            "\n"
          ]
        }
      ]
    },
    {
      "cell_type": "code",
      "source": [
        "# Import matplotlib.pyplot with alias plt\n",
        "import matplotlib.pyplot as plt"
      ],
      "metadata": {
        "id": "4ltC-0NHubzp"
      },
      "execution_count": null,
      "outputs": []
    },
    {
      "cell_type": "code",
      "source": [
        "# Subset for food_category equals rice: rice_consumption\n",
        "rice_consumption = food_consumption[food_consumption['food_category'] == 'rice']"
      ],
      "metadata": {
        "id": "Ut1POhkZu1zf"
      },
      "execution_count": null,
      "outputs": []
    },
    {
      "cell_type": "code",
      "source": [
        "# Histogram of co2_emission for rice and show plot\n",
        "rice_consumption['co2_emission'].hist()\n",
        "plt.show()"
      ],
      "metadata": {
        "colab": {
          "base_uri": "https://localhost:8080/",
          "height": 431
        },
        "id": "9Md8iNWHu5RF",
        "outputId": "7aa2f2ca-f4bf-410f-e065-e5c0a5dcd0b7"
      },
      "execution_count": null,
      "outputs": [
        {
          "output_type": "display_data",
          "data": {
            "text/plain": [
              "<Figure size 640x480 with 1 Axes>"
            ],
            "image/png": "[encoded data removed]"
          },
          "metadata": {}
        }
      ]
    },
    {
      "cell_type": "markdown",
      "source": [
        "plot : Right-skewed"
      ],
      "metadata": {
        "id": "LHIFko1hvDWg"
      }
    },
    {
      "cell_type": "code",
      "source": [
        "# Subset for food_category equals rice\n",
        "rice_consumption = food_consumption[food_consumption['food_category'] == 'rice']"
      ],
      "metadata": {
        "id": "DkBePEMKu7Ml"
      },
      "execution_count": null,
      "outputs": []
    },
    {
      "cell_type": "code",
      "source": [
        "rice_consumption.head()"
      ],
      "metadata": {
        "colab": {
          "base_uri": "https://localhost:8080/",
          "height": 206
        },
        "id": "3-grywrFvqxI",
        "outputId": "2f4a0c22-c96a-44f8-d9ab-44d420484f40"
      },
      "execution_count": null,
      "outputs": [
        {
          "output_type": "execute_result",
          "data": {
            "text/plain": [
              "    Unnamed: 0      country food_category  consumption  co2_emission\n",
              "8            9    Argentina          rice         8.77         11.22\n",
              "19          20    Australia          rice        11.03         14.12\n",
              "30          31      Albania          rice         7.78          9.96\n",
              "41          42      Iceland          rice         3.89          4.98\n",
              "52          53  New Zealand          rice         9.16         11.72"
            ],
            "text/html": [
              "\n",
              "  <div id=\"df-583797e4-7b9a-4b7e-8cfb-811378c33d4f\" class=\"colab-df-container\">\n",
              "    <div>\n",
              "<style scoped>\n",
              "    .dataframe tbody tr th:only-of-type {\n",
              "        vertical-align: middle;\n",
              "    }\n",
              "\n",
              "    .dataframe tbody tr th {\n",
              "        vertical-align: top;\n",
              "    }\n",
              "\n",
              "    .dataframe thead th {\n",
              "        text-align: right;\n",
              "    }\n",
              "</style>\n",
              "<table border=\"1\" class=\"dataframe\">\n",
              "  <thead>\n",
              "    <tr style=\"text-align: right;\">\n",
              "      <th></th>\n",
              "      <th>Unnamed: 0</th>\n",
              "      <th>country</th>\n",
              "      <th>food_category</th>\n",
              "      <th>consumption</th>\n",
              "      <th>co2_emission</th>\n",
              "    </tr>\n",
              "  </thead>\n",
              "  <tbody>\n",
              "    <tr>\n",
              "      <th>8</th>\n",
              "      <td>9</td>\n",
              "      <td>Argentina</td>\n",
              "      <td>rice</td>\n",
              "      <td>8.77</td>\n",
              "      <td>11.22</td>\n",
              "    </tr>\n",
              "    <tr>\n",
              "      <th>19</th>\n",
              "      <td>20</td>\n",
              "      <td>Australia</td>\n",
              "      <td>rice</td>\n",
              "      <td>11.03</td>\n",
              "      <td>14.12</td>\n",
              "    </tr>\n",
              "    <tr>\n",
              "      <th>30</th>\n",
              "      <td>31</td>\n",
              "      <td>Albania</td>\n",
              "      <td>rice</td>\n",
              "      <td>7.78</td>\n",
              "      <td>9.96</td>\n",
              "    </tr>\n",
              "    <tr>\n",
              "      <th>41</th>\n",
              "      <td>42</td>\n",
              "      <td>Iceland</td>\n",
              "      <td>rice</td>\n",
              "      <td>3.89</td>\n",
              "      <td>4.98</td>\n",
              "    </tr>\n",
              "    <tr>\n",
              "      <th>52</th>\n",
              "      <td>53</td>\n",
              "      <td>New Zealand</td>\n",
              "      <td>rice</td>\n",
              "      <td>9.16</td>\n",
              "      <td>11.72</td>\n",
              "    </tr>\n",
              "  </tbody>\n",
              "</table>\n",
              "</div>\n",
              "    <div class=\"colab-df-buttons\">\n",
              "\n",
              "  <div class=\"colab-df-container\">\n",
              "    <button class=\"colab-df-convert\" onclick=\"convertToInteractive('df-583797e4-7b9a-4b7e-8cfb-811378c33d4f')\"\n",
              "            title=\"Convert this dataframe to an interactive table.\"\n",
              "            style=\"display:none;\">\n",
              "\n",
              "  <svg xmlns=\"http://www.w3.org/2000/svg\" height=\"24px\" viewBox=\"0 -960 960 960\">\n",
              "    <path d=\"M120-120v-720h720v720H120Zm60-500h600v-160H180v160Zm220 220h160v-160H400v160Zm0 220h160v-160H400v160ZM180-400h160v-160H180v160Zm440 0h160v-160H620v160ZM180-180h160v-160H180v160Zm440 0h160v-160H620v160Z\"/>\n",
              "  </svg>\n",
              "    </button>\n",
              "\n",
              "  <style>\n",
              "    .colab-df-container {\n",
              "      display:flex;\n",
              "      gap: 12px;\n",
              "    }\n",
              "\n",
              "    .colab-df-convert {\n",
              "      background-color: #E8F0FE;\n",
              "      border: none;\n",
              "      border-radius: 50%;\n",
              "      cursor: pointer;\n",
              "      display: none;\n",
              "      fill: #1967D2;\n",
              "      height: 32px;\n",
              "      padding: 0 0 0 0;\n",
              "      width: 32px;\n",
              "    }\n",
              "\n",
              "    .colab-df-convert:hover {\n",
              "      background-color: #E2EBFA;\n",
              "      box-shadow: 0px 1px 2px rgba(60, 64, 67, 0.3), 0px 1px 3px 1px rgba(60, 64, 67, 0.15);\n",
              "      fill: #174EA6;\n",
              "    }\n",
              "\n",
              "    .colab-df-buttons div {\n",
              "      margin-bottom: 4px;\n",
              "    }\n",
              "\n",
              "    [theme=dark] .colab-df-convert {\n",
              "      background-color: #3B4455;\n",
              "      fill: #D2E3FC;\n",
              "    }\n",
              "\n",
              "    [theme=dark] .colab-df-convert:hover {\n",
              "      background-color: #434B5C;\n",
              "      box-shadow: 0px 1px 3px 1px rgba(0, 0, 0, 0.15);\n",
              "      filter: drop-shadow(0px 1px 2px rgba(0, 0, 0, 0.3));\n",
              "      fill: #FFFFFF;\n",
              "    }\n",
              "  </style>\n",
              "\n",
              "    <script>\n",
              "      const buttonEl =\n",
              "        document.querySelector('#df-583797e4-7b9a-4b7e-8cfb-811378c33d4f button.colab-df-convert');\n",
              "      buttonEl.style.display =\n",
              "        google.colab.kernel.accessAllowed ? 'block' : 'none';\n",
              "\n",
              "      async function convertToInteractive(key) {\n",
              "        const element = document.querySelector('#df-583797e4-7b9a-4b7e-8cfb-811378c33d4f');\n",
              "        const dataTable =\n",
              "          await google.colab.kernel.invokeFunction('convertToInteractive',\n",
              "                                                    [key], {});\n",
              "        if (!dataTable) return;\n",
              "\n",
              "        const docLinkHtml = 'Like what you see? Visit the ' +\n",
              "          '<a target=\"_blank\" href=https://colab.research.google.com/notebooks/data_table.ipynb>data table notebook</a>'\n",
              "          + ' to learn more about interactive tables.';\n",
              "        element.innerHTML = '';\n",
              "        dataTable['output_type'] = 'display_data';\n",
              "        await google.colab.output.renderOutput(dataTable, element);\n",
              "        const docLink = document.createElement('div');\n",
              "        docLink.innerHTML = docLinkHtml;\n",
              "        element.appendChild(docLink);\n",
              "      }\n",
              "    </script>\n",
              "  </div>\n",
              "\n",
              "\n",
              "<div id=\"df-853ab38a-6c21-40c2-ba05-8604b75e04bb\">\n",
              "  <button class=\"colab-df-quickchart\" onclick=\"quickchart('df-853ab38a-6c21-40c2-ba05-8604b75e04bb')\"\n",
              "            title=\"Suggest charts\"\n",
              "            style=\"display:none;\">\n",
              "\n",
              "<svg xmlns=\"http://www.w3.org/2000/svg\" height=\"24px\"viewBox=\"0 0 24 24\"\n",
              "     width=\"24px\">\n",
              "    <g>\n",
              "        <path d=\"M19 3H5c-1.1 0-2 .9-2 2v14c0 1.1.9 2 2 2h14c1.1 0 2-.9 2-2V5c0-1.1-.9-2-2-2zM9 17H7v-7h2v7zm4 0h-2V7h2v10zm4 0h-2v-4h2v4z\"/>\n",
              "    </g>\n",
              "</svg>\n",
              "  </button>\n",
              "\n",
              "<style>\n",
              "  .colab-df-quickchart {\n",
              "      --bg-color: #E8F0FE;\n",
              "      --fill-color: #1967D2;\n",
              "      --hover-bg-color: #E2EBFA;\n",
              "      --hover-fill-color: #174EA6;\n",
              "      --disabled-fill-color: #AAA;\n",
              "      --disabled-bg-color: #DDD;\n",
              "  }\n",
              "\n",
              "  [theme=dark] .colab-df-quickchart {\n",
              "      --bg-color: #3B4455;\n",
              "      --fill-color: #D2E3FC;\n",
              "      --hover-bg-color: #434B5C;\n",
              "      --hover-fill-color: #FFFFFF;\n",
              "      --disabled-bg-color: #3B4455;\n",
              "      --disabled-fill-color: #666;\n",
              "  }\n",
              "\n",
              "  .colab-df-quickchart {\n",
              "    background-color: var(--bg-color);\n",
              "    border: none;\n",
              "    border-radius: 50%;\n",
              "    cursor: pointer;\n",
              "    display: none;\n",
              "    fill: var(--fill-color);\n",
              "    height: 32px;\n",
              "    padding: 0;\n",
              "    width: 32px;\n",
              "  }\n",
              "\n",
              "  .colab-df-quickchart:hover {\n",
              "    background-color: var(--hover-bg-color);\n",
              "    box-shadow: 0 1px 2px rgba(60, 64, 67, 0.3), 0 1px 3px 1px rgba(60, 64, 67, 0.15);\n",
              "    fill: var(--button-hover-fill-color);\n",
              "  }\n",
              "\n",
              "  .colab-df-quickchart-complete:disabled,\n",
              "  .colab-df-quickchart-complete:disabled:hover {\n",
              "    background-color: var(--disabled-bg-color);\n",
              "    fill: var(--disabled-fill-color);\n",
              "    box-shadow: none;\n",
              "  }\n",
              "\n",
              "  .colab-df-spinner {\n",
              "    border: 2px solid var(--fill-color);\n",
              "    border-color: transparent;\n",
              "    border-bottom-color: var(--fill-color);\n",
              "    animation:\n",
              "      spin 1s steps(1) infinite;\n",
              "  }\n",
              "\n",
              "  @keyframes spin {\n",
              "    0% {\n",
              "      border-color: transparent;\n",
              "      border-bottom-color: var(--fill-color);\n",
              "      border-left-color: var(--fill-color);\n",
              "    }\n",
              "    20% {\n",
              "      border-color: transparent;\n",
              "      border-left-color: var(--fill-color);\n",
              "      border-top-color: var(--fill-color);\n",
              "    }\n",
              "    30% {\n",
              "      border-color: transparent;\n",
              "      border-left-color: var(--fill-color);\n",
              "      border-top-color: var(--fill-color);\n",
              "      border-right-color: var(--fill-color);\n",
              "    }\n",
              "    40% {\n",
              "      border-color: transparent;\n",
              "      border-right-color: var(--fill-color);\n",
              "      border-top-color: var(--fill-color);\n",
              "    }\n",
              "    60% {\n",
              "      border-color: transparent;\n",
              "      border-right-color: var(--fill-color);\n",
              "    }\n",
              "    80% {\n",
              "      border-color: transparent;\n",
              "      border-right-color: var(--fill-color);\n",
              "      border-bottom-color: var(--fill-color);\n",
              "    }\n",
              "    90% {\n",
              "      border-color: transparent;\n",
              "      border-bottom-color: var(--fill-color);\n",
              "    }\n",
              "  }\n",
              "</style>\n",
              "\n",
              "  <script>\n",
              "    async function quickchart(key) {\n",
              "      const quickchartButtonEl =\n",
              "        document.querySelector('#' + key + ' button');\n",
              "      quickchartButtonEl.disabled = true;  // To prevent multiple clicks.\n",
              "      quickchartButtonEl.classList.add('colab-df-spinner');\n",
              "      try {\n",
              "        const charts = await google.colab.kernel.invokeFunction(\n",
              "            'suggestCharts', [key], {});\n",
              "      } catch (error) {\n",
              "        console.error('Error during call to suggestCharts:', error);\n",
              "      }\n",
              "      quickchartButtonEl.classList.remove('colab-df-spinner');\n",
              "      quickchartButtonEl.classList.add('colab-df-quickchart-complete');\n",
              "    }\n",
              "    (() => {\n",
              "      let quickchartButtonEl =\n",
              "        document.querySelector('#df-853ab38a-6c21-40c2-ba05-8604b75e04bb button');\n",
              "      quickchartButtonEl.style.display =\n",
              "        google.colab.kernel.accessAllowed ? 'block' : 'none';\n",
              "    })();\n",
              "  </script>\n",
              "</div>\n",
              "\n",
              "    </div>\n",
              "  </div>\n"
            ],
            "application/vnd.google.colaboratory.intrinsic+json": {
              "type": "dataframe",
              "variable_name": "rice_consumption",
              "summary": "{\n  \"name\": \"rice_consumption\",\n  \"rows\": 130,\n  \"fields\": [\n    {\n      \"column\": \"Unnamed: 0\",\n      \"properties\": {\n        \"dtype\": \"number\",\n        \"std\": 414,\n        \"min\": 9,\n        \"max\": 1428,\n        \"num_unique_values\": 130,\n        \"samples\": [\n          614,\n          449,\n          218\n        ],\n        \"semantic_type\": \"\",\n        \"description\": \"\"\n      }\n    },\n    {\n      \"column\": \"country\",\n      \"properties\": {\n        \"dtype\": \"string\",\n        \"num_unique_values\": 130,\n        \"samples\": [\n          \"Romania\",\n          \"Belarus\",\n          \"Hong Kong SAR. China\"\n        ],\n        \"semantic_type\": \"\",\n        \"description\": \"\"\n      }\n    },\n    {\n      \"column\": \"food_category\",\n      \"properties\": {\n        \"dtype\": \"category\",\n        \"num_unique_values\": 1,\n        \"samples\": [\n          \"rice\"\n        ],\n        \"semantic_type\": \"\",\n        \"description\": \"\"\n      }\n    },\n    {\n      \"column\": \"consumption\",\n      \"properties\": {\n        \"dtype\": \"number\",\n        \"std\": 37.324470810635454,\n        \"min\": 0.95,\n        \"max\": 171.73,\n        \"num_unique_values\": 127,\n        \"samples\": [\n          3.7\n        ],\n        \"semantic_type\": \"\",\n        \"description\": \"\"\n      }\n    },\n    {\n      \"column\": \"co2_emission\",\n      \"properties\": {\n        \"dtype\": \"number\",\n        \"std\": 47.763754491316305,\n        \"min\": 1.22,\n        \"max\": 219.76,\n        \"num_unique_values\": 127,\n        \"samples\": [\n          4.73\n        ],\n        \"semantic_type\": \"\",\n        \"description\": \"\"\n      }\n    }\n  ]\n}"
            }
          },
          "metadata": {},
          "execution_count": 17
        }
      ]
    },
    {
      "cell_type": "code",
      "source": [
        "# Calculate mean and median of co2_emission with .agg()\n",
        "print(rice_consumption[['co2_emission']].agg(['mean', 'median']))"
      ],
      "metadata": {
        "colab": {
          "base_uri": "https://localhost:8080/"
        },
        "id": "YVghccYhvV4Y",
        "outputId": "694b0c41-67e3-47cf-dcf7-50da3c856eb7"
      },
      "execution_count": null,
      "outputs": [
        {
          "output_type": "stream",
          "name": "stdout",
          "text": [
            "        co2_emission\n",
            "mean       37.591615\n",
            "median     15.200000\n"
          ]
        }
      ]
    },
    {
      "cell_type": "markdown",
      "source": [
        "- Given the skew of this data, what measure of central tendency best summarizes the kilograms of CO2 emissions per person per year for rice?\n",
        "- Median"
      ],
      "metadata": {
        "id": "azUWt-MywQ36"
      }
    },
    {
      "cell_type": "markdown",
      "source": [
        "# Measures of spread"
      ],
      "metadata": {
        "id": "lSPN7faGwuEL"
      }
    },
    {
      "cell_type": "markdown",
      "source": [
        "## Variance\n",
        "Average distance from each data point to the data's mean\n",
        "\n",
        "- Standard deviation\n",
        "\n",
        "## Mean absolute deviation\n",
        "The mean absolute deviation of a dataset is the average distance between each data point and the mean\n",
        "\n",
        "\n",
        "## Standard deviation vs. mean absolute deviation\n",
        "- Standard deviation squares distances, penalizing longer distances more than shorter ones.\n",
        "- Mean absolute deviation penalizes each distance equally.\n",
        "- One isn't better than the other, but SD is more common than MAD."
      ],
      "metadata": {
        "id": "szANugylxkgX"
      }
    },
    {
      "cell_type": "markdown",
      "source": [
        "## Quantiles\n",
        "\n",
        "![box](https://media.geeksforgeeks.org/wp-content/uploads/20201127012952/boxplot-660x233.png)"
      ],
      "metadata": {
        "id": "PYRIWpiSyUFf"
      }
    },
    {
      "cell_type": "markdown",
      "source": [
        "## Interquartile range (IQR)\n",
        "\n",
        "Height of the box in a boxplot\n",
        "\n",
        "## Outliers\n",
        "Outlier: data point that is substantially different from the others\n",
        "How do we know what a substantial difference is? A data point is an outlier if:\n",
        "- data < Q1 − 1.5 × IQR **or**\n",
        "- data > Q3 + 1.5 × IQR"
      ],
      "metadata": {
        "id": "l6Ag6gOvzd3w"
      }
    },
    {
      "cell_type": "markdown",
      "source": [
        "Variance and standard deviation\n",
        "\n",
        "pread is important since it can help inform expectations. For example, if a salesperson sells a mean of 20 products a day, but has a standard deviation of 10 products, there will probably be days where they sell 40 products, but also days where they only sell one or two. Information like this is important, especially when making predictions."
      ],
      "metadata": {
        "id": "k2agw5bm005R"
      }
    },
    {
      "cell_type": "code",
      "source": [
        "# Print variance and sd of co2_emission for each food_category\n",
        "print(food_consumption.groupby('food_category')['co2_emission'].agg(['var', 'std']))"
      ],
      "metadata": {
        "colab": {
          "base_uri": "https://localhost:8080/"
        },
        "id": "P8UHG40M01Po",
        "outputId": "81971ef1-58be-43e9-fe33-d87c74b3936a"
      },
      "execution_count": null,
      "outputs": [
        {
          "output_type": "stream",
          "name": "stdout",
          "text": [
            "                        var         std\n",
            "food_category                          \n",
            "beef           88748.408132  297.906710\n",
            "dairy          17671.891985  132.935669\n",
            "eggs              21.371819    4.622966\n",
            "fish             921.637349   30.358481\n",
            "lamb_goat      16475.518363  128.356996\n",
            "nuts              35.639652    5.969895\n",
            "pork            3094.963537   55.632396\n",
            "poultry          245.026801   15.653332\n",
            "rice            2281.376243   47.763754\n",
            "soybeans           0.879882    0.938020\n",
            "wheat             71.023937    8.427570\n"
          ]
        }
      ]
    },
    {
      "cell_type": "code",
      "source": [
        "# Create histogram of co2_emission for food_category 'beef'\n",
        "food_consumption[food_consumption['food_category'] == 'beef']['co2_emission'].hist()\n",
        "plt.show()"
      ],
      "metadata": {
        "colab": {
          "base_uri": "https://localhost:8080/",
          "height": 430
        },
        "id": "jhpqLbdv08Q5",
        "outputId": "edd1e49e-7dee-47d9-b83a-89e33ef9c6bd"
      },
      "execution_count": null,
      "outputs": [
        {
          "output_type": "display_data",
          "data": {
            "text/plain": [
              "<Figure size 640x480 with 1 Axes>"
            ],
            "image/png": "[encoded data removed]"
          },
          "metadata": {}
        }
      ]
    },
    {
      "cell_type": "code",
      "source": [
        "# Create histogram of co2_emission for food_category 'eggs'\n",
        "food_consumption[food_consumption['food_category'] == 'eggs']['co2_emission'].hist()\n",
        "plt.show()"
      ],
      "metadata": {
        "colab": {
          "base_uri": "https://localhost:8080/",
          "height": 430
        },
        "id": "67wARey61BEM",
        "outputId": "cf551196-295e-48fa-adbd-a70e9a5b0d91"
      },
      "execution_count": null,
      "outputs": [
        {
          "output_type": "display_data",
          "data": {
            "text/plain": [
              "<Figure size 640x480 with 1 Axes>"
            ],
            "image/png": "[encoded data removed]"
          },
          "metadata": {}
        }
      ]
    },
    {
      "cell_type": "markdown",
      "source": [
        "Quartiles, quantiles, and quintiles"
      ],
      "metadata": {
        "id": "QiwHwX6a1KAE"
      }
    },
    {
      "cell_type": "markdown",
      "source": [
        "Quantiles are a great way of summarizing numerical data since they can be used to measure center and spread, as well as to get a sense of where a data point stands in relation to the rest of the data set. For example, you might want to give a discount to the 10% most active users on a website."
      ],
      "metadata": {
        "id": "44AjrMhe1NBL"
      }
    },
    {
      "cell_type": "code",
      "source": [
        "# Calculate the quartiles of co2_emission\n",
        "print(np.quantile(food_consumption['co2_emission'], [0, 0.25, 0.5, 0.75, 1]))"
      ],
      "metadata": {
        "colab": {
          "base_uri": "https://localhost:8080/"
        },
        "id": "LD_XRP9Z1ENa",
        "outputId": "19de6573-9e07-4d49-bba8-56cd0656319b"
      },
      "execution_count": null,
      "outputs": [
        {
          "output_type": "stream",
          "name": "stdout",
          "text": [
            "[   0.        5.21     16.53     62.5975 1712.    ]\n"
          ]
        }
      ]
    },
    {
      "cell_type": "code",
      "source": [
        "# Calculate the quartiles of co2_emission\n",
        "print(np.quantile(food_consumption['co2_emission'], [0, 0.2, 0.4, 0.6, 0.8, 1]))"
      ],
      "metadata": {
        "colab": {
          "base_uri": "https://localhost:8080/"
        },
        "id": "KBqhybz01d-d",
        "outputId": "ee896a48-36da-4458-a299-ee76d3d499e8"
      },
      "execution_count": null,
      "outputs": [
        {
          "output_type": "stream",
          "name": "stdout",
          "text": [
            "[   0.       3.54    11.026   25.59    99.978 1712.   ]\n"
          ]
        }
      ]
    },
    {
      "cell_type": "code",
      "source": [
        "# Calculate the quartiles of co2_emission\n",
        "print(np.quantile(food_consumption['co2_emission'], np.linspace(0,1,11)))"
      ],
      "metadata": {
        "colab": {
          "base_uri": "https://localhost:8080/"
        },
        "id": "WhQvF2241i5g",
        "outputId": "6a897d4a-00c1-4e25-f83b-76808cb95ee5"
      },
      "execution_count": null,
      "outputs": [
        {
          "output_type": "stream",
          "name": "stdout",
          "text": [
            "[0.00000e+00 6.68000e-01 3.54000e+00 7.04000e+00 1.10260e+01 1.65300e+01\n",
            " 2.55900e+01 4.42710e+01 9.99780e+01 2.03629e+02 1.71200e+03]\n"
          ]
        }
      ]
    },
    {
      "cell_type": "markdown",
      "source": [
        "Finding outliers using IQR\n",
        "\n",
        "Outliers can have big effects on statistics like mean, as well as statistics that rely on the mean, such as variance and standard deviation. Interquartile range, or IQR, is another way of measuring spread that's less influenced by outliers. IQR is also often used to find outliers."
      ],
      "metadata": {
        "id": "4XywbiQK1q1a"
      }
    },
    {
      "cell_type": "code",
      "source": [
        "# Calculate total co2_emission per country: emissions_by_country\n",
        "emissions_by_country = food_consumption.groupby('country')['co2_emission'].sum()\n",
        "emissions_by_country.head()"
      ],
      "metadata": {
        "colab": {
          "base_uri": "https://localhost:8080/",
          "height": 272
        },
        "id": "LOomskRr1mO_",
        "outputId": "699cd193-6f44-41e6-990c-fbf116536742"
      },
      "execution_count": null,
      "outputs": [
        {
          "output_type": "execute_result",
          "data": {
            "text/plain": [
              "country\n",
              "Albania      1777.85\n",
              "Algeria       707.88\n",
              "Angola        412.99\n",
              "Argentina    2172.40\n",
              "Armenia      1109.93\n",
              "Name: co2_emission, dtype: float64"
            ],
            "text/html": [
              "<div>\n",
              "<style scoped>\n",
              "    .dataframe tbody tr th:only-of-type {\n",
              "        vertical-align: middle;\n",
              "    }\n",
              "\n",
              "    .dataframe tbody tr th {\n",
              "        vertical-align: top;\n",
              "    }\n",
              "\n",
              "    .dataframe thead th {\n",
              "        text-align: right;\n",
              "    }\n",
              "</style>\n",
              "<table border=\"1\" class=\"dataframe\">\n",
              "  <thead>\n",
              "    <tr style=\"text-align: right;\">\n",
              "      <th></th>\n",
              "      <th>co2_emission</th>\n",
              "    </tr>\n",
              "    <tr>\n",
              "      <th>country</th>\n",
              "      <th></th>\n",
              "    </tr>\n",
              "  </thead>\n",
              "  <tbody>\n",
              "    <tr>\n",
              "      <th>Albania</th>\n",
              "      <td>1777.85</td>\n",
              "    </tr>\n",
              "    <tr>\n",
              "      <th>Algeria</th>\n",
              "      <td>707.88</td>\n",
              "    </tr>\n",
              "    <tr>\n",
              "      <th>Angola</th>\n",
              "      <td>412.99</td>\n",
              "    </tr>\n",
              "    <tr>\n",
              "      <th>Argentina</th>\n",
              "      <td>2172.40</td>\n",
              "    </tr>\n",
              "    <tr>\n",
              "      <th>Armenia</th>\n",
              "      <td>1109.93</td>\n",
              "    </tr>\n",
              "  </tbody>\n",
              "</table>\n",
              "</div><br><label><b>dtype:</b> float64</label>"
            ]
          },
          "metadata": {},
          "execution_count": 32
        }
      ]
    },
    {
      "cell_type": "code",
      "source": [
        "# Compute the first and third quantiles and IQR of emissions_by_country\n",
        "q1 = np.quantile(emissions_by_country, 0.25)\n",
        "q3 = np.quantile(emissions_by_country, 0.75)\n",
        "iqr = q3 - q1"
      ],
      "metadata": {
        "id": "SJnLhTBf15QN"
      },
      "execution_count": null,
      "outputs": []
    },
    {
      "cell_type": "code",
      "source": [
        "# Calculate the lower and upper cutoffs for outliers\n",
        "lower = q1 - 1.5 * iqr\n",
        "upper = q3 + 1.5 * iqr"
      ],
      "metadata": {
        "id": "AIQxbP0V18Uh"
      },
      "execution_count": null,
      "outputs": []
    },
    {
      "cell_type": "code",
      "source": [
        "# Subset emissions_by_country to find outliers\n",
        "outliers = emissions_by_country[(emissions_by_country < lower) | (emissions_by_country > upper)]\n",
        "print(outliers)"
      ],
      "metadata": {
        "colab": {
          "base_uri": "https://localhost:8080/"
        },
        "id": "613vUl97192z",
        "outputId": "38929df8-4474-4574-8ee3-128596102b25"
      },
      "execution_count": null,
      "outputs": [
        {
          "output_type": "stream",
          "name": "stdout",
          "text": [
            "country\n",
            "Argentina    2172.4\n",
            "Name: co2_emission, dtype: float64\n"
          ]
        }
      ]
    },
    {
      "cell_type": "code",
      "source": [],
      "metadata": {
        "id": "Jap5wVOV2EeJ"
      },
      "execution_count": null,
      "outputs": []
    }
  ]
}