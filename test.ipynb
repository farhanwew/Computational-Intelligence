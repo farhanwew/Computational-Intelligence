{
 "cells": [
  {
   "cell_type": "markdown",
   "id": "b7ecdd02",
   "metadata": {},
   "source": [
    "| Operation             | Book  | Python Infix Input | Python Output | Python Expr Input    |\n",
    "|-----------------------|-------|--------------------|---------------|----------------------|\n",
    "| Negation              | ¬ P   | `~P`               | `~P`          | `Expr('~', P)`       |\n",
    "| And                   | P ∧ Q | `P & Q`            | `P & Q`       | `Expr('&', P, Q)`    |\n",
    "| Or                    | P ∨ Q | `P &#124; Q`       | `P &#124; Q`  | `Expr('|', P, Q)`    |\n",
    "| Inequality (Xor)      | P ≠ Q | `P ^ Q`            | `P ^ Q`       | `Expr('^', P, Q)`    |\n",
    "| Implication           | P → Q | `P ==> Q`          | `P ==> Q`     | `Expr('==>', P, Q)`  |\n",
    "| Reverse Implication   | Q ← P | `Q <== P`          | `Q <== P`     | `Expr('<==', Q, P)`  |\n",
    "| Equivalence           | P ↔ Q | `P <=> Q`          | `P <=> Q`     | `Expr('<=>', P, Q)`  |\n"
   ]
  },
  {
   "cell_type": "markdown",
   "id": "89cad4ef",
   "metadata": {},
   "source": []
  }
 ],
 "metadata": {
  "kernelspec": {
   "display_name": "Python 3",
   "language": "python",
   "name": "python3"
  },
  "language_info": {
   "name": "python",
   "version": "3.12.0"
  }
 },
 "nbformat": 4,
 "nbformat_minor": 5
}
